{
 "cells": [
  {
   "cell_type": "markdown",
   "metadata": {},
   "source": [
    "# Jeu et Test statistique : Pierre-Feuille-Ciseaux"
   ]
  },
  {
   "cell_type": "markdown",
   "metadata": {},
   "source": [
    "## Simulation d'une chaine de Markov"
   ]
  },
  {
   "cell_type": "code",
   "execution_count": 24,
   "metadata": {},
   "outputs": [],
   "source": [
    "import numpy as np\n",
    "from tkinter import*\n",
    "import matplotlib.pyplot as plt\n",
    "import matplotlib\n",
    "matplotlib.use(\"TkAgg\")\n",
    "from matplotlib.backends.backend_tkagg import FigureCanvasTkAgg\n",
    "from matplotlib.figure import Figure"
   ]
  },
  {
   "cell_type": "markdown",
   "metadata": {},
   "source": [
    "### Création de la matrice de transition \"P\"."
   ]
  },
  {
   "cell_type": "code",
   "execution_count": 25,
   "metadata": {},
   "outputs": [],
   "source": [
    "import numpy as np\n",
    "\n",
    "P = np.array([\n",
    "    [0.8, 0.1, 0.1],  \n",
    "    [0.3, 0.4, 0.3],  \n",
    "    [0.1, 0.1, 0.8]   \n",
    "])\n"
   ]
  },
  {
   "cell_type": "markdown",
   "metadata": {},
   "source": [
    "### Création de la fonction \"randomPFS(a,b)\" pour l'obtention de 0, 1 et 2 aves les probabilités a, b, et 1 - a - b."
   ]
  },
  {
   "cell_type": "code",
   "execution_count": 26,
   "metadata": {},
   "outputs": [],
   "source": [
    "def randomPFS(a,b):\n",
    "    \n",
    "    assert 0 <= a <= 1, \"a entre 0 et 1\"\n",
    "    assert 0 <= b <= 1, \"b entre 0 et 1\"\n",
    "    assert a + b <= 1, \"a + b inférieur ou egal à 1\"\n",
    "    \n",
    "    r = np.random.random()\n",
    "    \n",
    "    if r < a:\n",
    "        return 0\n",
    "    elif r < a + b:\n",
    "        return 1\n",
    "    else:\n",
    "        return 2\n",
    "    "
   ]
  },
  {
   "cell_type": "code",
   "execution_count": 27,
   "metadata": {},
   "outputs": [
    {
     "data": {
      "text/plain": [
       "1"
      ]
     },
     "execution_count": 27,
     "metadata": {},
     "output_type": "execute_result"
    }
   ],
   "source": [
    "randomPFS(0.005, 0.1)"
   ]
  },
  {
   "cell_type": "markdown",
   "metadata": {},
   "source": [
    "### Création de la fonction \"sampleMarkov(P,n)\" pour générer la chaine de Markov "
   ]
  },
  {
   "cell_type": "code",
   "execution_count": 28,
   "metadata": {},
   "outputs": [
    {
     "name": "stdout",
     "output_type": "stream",
     "text": [
      "Chaine de Markov générée : [2, 2, 2, 2, 0, 0, 0, 1, 0, 2, 2, 2, 2, 2, 2, 2, 2, 2, 2, 2, 1, 1, 0, 0, 0, 0, 0, 0, 0, 0, 1, 2, 2, 2, 1, 0, 0, 0, 0, 0, 0, 2, 1, 1, 2, 1, 1, 0, 0, 0, 0, 0, 1, 0, 1, 0, 0, 0, 0, 0, 0, 0, 1, 1, 2, 0, 1, 0, 0, 0, 0, 2, 2, 2, 2, 2, 2, 2, 2, 0, 0, 1, 1, 2, 2, 2, 2, 2, 2, 2, 2, 1, 1, 0, 0, 0, 0, 0, 0, 0]\n"
     ]
    }
   ],
   "source": [
    "def sampleMarkov(P,n):\n",
    "\n",
    "    assert np.allclose(P.sum(axis=1), 1), \"Chaque ligne de la matrice P doit sommer à 1.\"\n",
    "    \n",
    "    num_states = P.shape[0]\n",
    "    \n",
    "    state = np.random.choice(num_states)\n",
    "    \n",
    "    sequence = [state]\n",
    "    \n",
    "    for _ in range(n - 1):\n",
    "        state = np.random.choice(num_states, p=P[state])\n",
    "        sequence.append(state)\n",
    "    \n",
    "    return sequence\n",
    "\n",
    "\n",
    "chain = sampleMarkov(P,100)\n",
    "print(\"Chaine de Markov générée :\" , chain)\n"
   ]
  },
  {
   "cell_type": "markdown",
   "metadata": {},
   "source": [
    "La chaîne de Markov générée reflète le comportement attendu d’un processus de Markov dicté par la matrice de transition $P$. Les états comme $0$ et $2$ persistent plus longtemps en raison de probabilités diagonales plus élevées, tandis que les transitions telles que $2 → 1$ ou $1 → 0$ se produisent moins fréquemment, reflétant les probabilités hors diagonale. Bien que la séquence semble aléatoire, elle suit les règles stochastiques de $P$, où les états futurs dépendent de l’état actuel."
   ]
  },
  {
   "cell_type": "markdown",
   "metadata": {},
   "source": [
    "## Implémentation du jeu."
   ]
  },
  {
   "cell_type": "code",
   "execution_count": 29,
   "metadata": {},
   "outputs": [],
   "source": [
    "#Règle du jeu : 1 pour un coup gagnant, -1 pour un coup perdant et 0 pour égalité\n",
    "dico=[\"Pierre\",\"Feuille\",\"Ciseaux\"]\n",
    "regle=np.array([[0,-1,1],[1,0,-1],[-1,1,0]]) \n",
    "\n",
    "#Initialisation\n",
    "coupsHumain=[]\n",
    "victoires=[]\n",
    "Score=0\n",
    "ScoreList=[]\n"
   ]
  },
  {
   "cell_type": "code",
   "execution_count": 30,
   "metadata": {},
   "outputs": [],
   "source": [
    "#programmation du jeu\n",
    "def jouer(a):\n",
    "    #Prise de décision de l'ordinateur\n",
    "    coupMachine=np.random.choice([0,1,2])\n",
    "    \n",
    "    #Sauvegarde du coup de l'humain\n",
    "    coupsHumain.append(a)\n",
    "    \n",
    "    #sauvegarde du résultat\n",
    "    victoires.append(regle[coupsHumain[-1],coupMachine])\n",
    "    \n",
    "    #Score total de l'humain\n",
    "    Score=sum(victoires)\n",
    "    ScoreList.append(Score)\n",
    "    \n",
    "    #Affichage du choix de l'ordinateur et du résultat\n",
    "    message1=\"Humain :\",dico[coupsHumain[-1]],\"Machine :\",dico[coupMachine],\"gain pour l'humain :\",regle[coupsHumain[-1],coupMachine]\n",
    "    message2=\"Score total de l'humain :\",Score\n",
    "    \n",
    "    return (message1,message2,victoires,Score,ScoreList)"
   ]
  },
  {
   "cell_type": "code",
   "execution_count": 31,
   "metadata": {},
   "outputs": [],
   "source": [
    "\n",
    "#Interface Homme-Machine\n",
    "fenetre=Tk()\n",
    "fenetre.title(\"à vous de jouer\")\n",
    "fenetre.minsize(width=600,height=600)\n",
    "formulaire=Canvas(fenetre)\n",
    "formulaire.pack()\n",
    "\n",
    "label1=Label(formulaire)\n",
    "label1.grid(row=3,column=1)\n",
    "\n",
    "label2=Label(formulaire)\n",
    "label2.grid(row=4,column=1)\n",
    "\n",
    "\n",
    "def afficherPierre():\n",
    "    Mes1,Mes2,Vict,score,scorelist=jouer(0)\n",
    "    label1.config(text=Mes1)\n",
    "    label2.config(text=Mes2)\n",
    "    nb_parties=len(scorelist)\n",
    "    plt.plot(scorelist)\n",
    "    plt.xlim(0,nb_parties)\n",
    "    plt.ylim(-nb_parties,nb_parties)\n",
    "    plt.xlabel(\"nombre de parties\")\n",
    "    plt.ylabel(\"Votre score\")\n",
    "    plt.title(\"Historique\")\n",
    "    plt.show()\n",
    "    \n",
    "      \n",
    "def afficherFeuille():\n",
    "    Mes1,Mes2,Vict,score,scorelist=jouer(1)\n",
    "    label1.config(text=Mes1)\n",
    "    label2.config(text=Mes2)\n",
    "    nb_parties=len(scorelist)\n",
    "    plt.plot(scorelist)\n",
    "    plt.xlim(0,nb_parties)\n",
    "    plt.ylim(-nb_parties,nb_parties)\n",
    "    plt.xlabel(\"nombre de parties\")\n",
    "    plt.ylabel(\"Votre score\")\n",
    "    plt.title(\"Historique\")\n",
    "    plt.show()\n",
    "\n",
    "def afficherCiseaux():\n",
    "    Mes1,Mes2,Vict,score,scorelist=jouer(2)\n",
    "    label1.config(text=Mes1)\n",
    "    label2.config(text=Mes2)\n",
    "    nb_parties=len(scorelist)\n",
    "    plt.plot(scorelist)\n",
    "    plt.xlim(0,nb_parties)\n",
    "    plt.ylim(-nb_parties,nb_parties)\n",
    "    plt.xlabel(\"nombre de parties\")\n",
    "    plt.ylabel(\"Votre score\")\n",
    "    plt.title(\"Historique\")\n",
    "    plt.show()\n",
    "        \n",
    "\n",
    "Pierre=Button(formulaire,text=\"Pierre\",command=afficherPierre)\n",
    "Pierre.grid(row=0,column=0)\n",
    "\n",
    "Feuille=Button(formulaire,text=\"Feuille\",command=afficherFeuille)\n",
    "Feuille.grid(row=0,column=1)\n",
    "\n",
    "Ciseaux=Button(formulaire,text=\"Ciseaux\",command=afficherCiseaux)\n",
    "Ciseaux.grid(row=0,column=2)\n",
    "\n",
    "\n",
    "    \n",
    "\n",
    "mainloop()"
   ]
  },
  {
   "cell_type": "markdown",
   "metadata": {},
   "source": [
    "Le graphique montre l’historique du score du joueur humain en fonction du nombre de parties jouées.\n",
    "\n",
    "Une pente positive indique que l'humain est en train de gagner.\n",
    "Une pente négative signifie que l'ordinateur prend l'avantage.\n",
    "Une ligne plate traduit un match nul ou une variation insignifiante du score."
   ]
  },
  {
   "cell_type": "markdown",
   "metadata": {},
   "source": [
    "### Amelioration 1"
   ]
  },
  {
   "cell_type": "code",
   "execution_count": 32,
   "metadata": {},
   "outputs": [
    {
     "data": {
      "text/plain": [
       "\"\\n    Compte le nombre d'occurrences de la paire (i, j) dans la liste b.\\n    b : Une liste de coups où chaque élément est un tuple (coup_humain, coup_machine).\\n    i : Coup du joueur humain à compter.\\n    j : Coup de la machine à compter.\\n    Retourne : Le nombre d'occurrences de (i, j) dans b.\\n   \\n    \""
      ]
     },
     "execution_count": 32,
     "metadata": {},
     "output_type": "execute_result"
    }
   ],
   "source": [
    "#Fonction qui donne le nombre de (i,j) dans une liste b de taille >2\n",
    "def nij(b,i,j):\n",
    "    return sum(1 for x, y in b if x == i and y == j)\n",
    "\n",
    "\"\"\"\n",
    "    Compte le nombre d'occurrences de la paire (i, j) dans la liste b.\n",
    "    b : Une liste de coups où chaque élément est un tuple (coup_humain, coup_machine).\n",
    "    i : Coup du joueur humain à compter.\n",
    "    j : Coup de la machine à compter.\n",
    "    Retourne : Le nombre d'occurrences de (i, j) dans b.\n",
    "   \n",
    "    \"\"\""
   ]
  },
  {
   "cell_type": "code",
   "execution_count": 33,
   "metadata": {},
   "outputs": [],
   "source": [
    "import numpy as np\n",
    "# Règle du jeu\n",
    "dico = [\"Pierre\", \"Feuille\", \"Ciseaux\"]\n",
    "regle = np.array([[0, -1, 1], [1, 0, -1], [-1, 1, 0]])   #1 pour un coup gagnant, -1 pour 1 perdant \n",
    "# et 0 pour égalité\n",
    "\n",
    "# Initialisation\n",
    "coupsHumain=[]\n",
    "victoires=[]\n",
    "Score=0\n",
    "ScoreList=[]\n",
    "Mem = np.zeros((3, 3), dtype=int)  # Matrice de transition\n",
    "\n",
    "\n",
    "# Programme de jeu\n",
    "def jouer2(a):\n",
    "    \"\"\"\n",
    "    fonction pour simuler un jeu Pierre-Papier-Ciseaux entre un humain et une machine.\n",
    "    \"\"\"\n",
    "    global Mem\n",
    "    \n",
    "    #Prise de décision de l'ordinateur\n",
    "    coupMachine = np.random.choice([0, 1, 2])  \n",
    "    \n",
    "    #Sauvegarde du coup de l'humain\n",
    "    coupsHumain.append(a)\n",
    "    \n",
    "     #sauvegarde du résultat\n",
    "    victoires.append(regle[coupsHumain[-1], coupMachine])\n",
    "    Mem[coupsHumain[-1], coupMachine] += 1  # Mise a jour de  Mem\n",
    "    \n",
    "     #Score total de l'humain\n",
    "    Score = sum(victoires)\n",
    "    ScoreList.append(Score)\n",
    "    \n",
    "    #Affichage du choix de l'ordinateur et du résultat\n",
    "    message1 = f\"Humain: {dico[coupsHumain[-1]]}, Machine: {dico[coupMachine]}, Gain pour humain: {regle[coupsHumain[-1], coupMachine]}\"\n",
    "    message2 = f\"Score total de l'humain: {Score}\"\n",
    "    \n",
    "    return message1, message2, victoires, Score, ScoreList, Mem\n",
    "\n",
    "\n",
    "# Interface Homme-Machine\n",
    "fenetre = Tk()\n",
    "fenetre.title(\"à vous de jouer\")\n",
    "fenetre.minsize(width=600, height=600)\n",
    "formulaire = Canvas(fenetre)\n",
    "formulaire.pack()\n",
    "\n",
    "label1 = Label(formulaire)\n",
    "label1.grid(row=3, column=1)\n",
    "\n",
    "label2 = Label(formulaire)\n",
    "label2.grid(row=4, column=1)\n",
    "\n",
    "label3 = Label(formulaire)  # Pour affichage Mem\n",
    "label3.grid(row=5, column=1)\n",
    "\n",
    "# fonction pour afficher les comptages de Mem et nij \n",
    "def display_transition_counts():\n",
    "    \"\"\"\n",
    "    fonction qui affiche la matrice de transition et les comptages nij\n",
    "    \"\"\"\n",
    "    for i in range(3):\n",
    "        for j in range(3):\n",
    "            print(f\"nij({i}, {j}) = {nij(list(zip(coupsHumain, victoires)), i, j)}\")\n",
    "\n",
    "\n",
    "def afficherPierre():\n",
    "    Mes1, Mes2, Vict, score, scorelist, mem = jouer2(0)\n",
    "    label1.config(text=Mes1)\n",
    "    label2.config(text=Mes2)\n",
    "    label3.config(text=f\"Mem:\\n{mem}\")  \n",
    "    nb_parties = len(scorelist)\n",
    "    plt.plot(scorelist)\n",
    "    plt.xlim(0, nb_parties)\n",
    "    plt.ylim(-nb_parties, nb_parties)\n",
    "    plt.xlabel(\"nombre de parties\")\n",
    "    plt.ylabel(\"Votre score\")\n",
    "    plt.title(\"Historique\")\n",
    "    plt.show()\n",
    "\n",
    "\n",
    "def afficherFeuille():\n",
    "    Mes1, Mes2, Vict, score, scorelist, mem = jouer2(1)\n",
    "    label1.config(text=Mes1)\n",
    "    label2.config(text=Mes2)\n",
    "    label3.config(text=f\"Mem:\\n{mem}\")  \n",
    "    nb_parties = len(scorelist)\n",
    "    plt.plot(scorelist)\n",
    "    plt.xlim(0, nb_parties)\n",
    "    plt.ylim(-nb_parties, nb_parties)\n",
    "    plt.xlabel(\"nombre de parties\")\n",
    "    plt.ylabel(\"Votre score\")\n",
    "    plt.title(\"Historique\")\n",
    "    plt.show()\n",
    "\n",
    "\n",
    "def afficherCiseaux():\n",
    "    Mes1, Mes2, Vict, score, scorelist, mem = jouer2(2)\n",
    "    label1.config(text=Mes1)\n",
    "    label2.config(text=Mes2)\n",
    "    label3.config(text=f\"Mem:\\n{mem}\")  \n",
    "    nb_parties = len(scorelist)\n",
    "    plt.plot(scorelist)\n",
    "    plt.xlim(0, nb_parties)\n",
    "    plt.ylim(-nb_parties, nb_parties)\n",
    "    plt.xlabel(\"nombre de parties\")\n",
    "    plt.ylabel(\"Votre score\")\n",
    "    plt.title(\"Historique\")\n",
    "    plt.show()\n",
    "\n",
    "\n",
    "Pierre = Button(formulaire, text=\"Pierre\", command=afficherPierre)\n",
    "Pierre.grid(row=0, column=0)\n",
    "\n",
    "Feuille = Button(formulaire, text=\"Feuille\", command=afficherFeuille)\n",
    "Feuille.grid(row=0, column=1)\n",
    "\n",
    "Ciseaux = Button(formulaire, text=\"Ciseaux\", command=afficherCiseaux)\n",
    "Ciseaux.grid(row=0, column=2)\n",
    "\n",
    "mainloop()\n"
   ]
  },
  {
   "cell_type": "markdown",
   "metadata": {},
   "source": [
    "### Amelioration 2"
   ]
  },
  {
   "cell_type": "code",
   "execution_count": 34,
   "metadata": {},
   "outputs": [],
   "source": [
    "# Regle du jeu\n",
    "dico = [\"Pierre\", \"Feuille\", \"Ciseaux\"]\n",
    "regle = np.array([[0, -1, 1], [1, 0, -1], [-1, 1, 0]])  # 1 pour un gagnant, -1 pour perdant, et 0 pur égalité\n",
    "\n",
    "# Initialisation\n",
    "coupsHumain=[]\n",
    "victoires=[]\n",
    "Score=0\n",
    "ScoreList=[]\n",
    "Mem = np.zeros((3, 3), dtype=int)  # Matrice de transition\n",
    "\n",
    "\n",
    "# Programme de jeu avec prise de décision par IA\n",
    "\n",
    "def jouer3(a):\n",
    "    \"\"\"\n",
    "    Simuler un seul tour du jeu en utilisant l'IA pour la décision de l'ordinateur.\n",
    "    \n",
    "    \"\"\"\n",
    "    global Score, coupsHumain, victoires, ScoreList, Mem\n",
    "\n",
    "    # Prise de décision pour l'ordinateur\n",
    "    if len(coupsHumain) > 0:  # le programme s'assure que un coup est bien joue\n",
    "        dernier_coup_humain = coupsHumain[-1]\n",
    "        total_transitions = np.sum(Mem[dernier_coup_humain, :])\n",
    "\n",
    "        # si nous avons assez de donnee, on calcule les frequences relatives\n",
    "        if total_transitions > 0:\n",
    "            probabilites = Mem[dernier_coup_humain, :] / total_transitions\n",
    "        else:\n",
    "            probabilites = np.array([1/3, 1/3, 1/3])  # probabilite uniforme par default\n",
    "\n",
    "        # Calculer les gains directement à partir des  Mem\n",
    "        gains = [\n",
    "            Mem[dernier_coup_humain, 2] - Mem[dernier_coup_humain, 1],  # g(0): Pierre\n",
    "            Mem[dernier_coup_humain, 0] - Mem[dernier_coup_humain, 2],  # g(1): Feuille\n",
    "            Mem[dernier_coup_humain, 1] - Mem[dernier_coup_humain, 0]   # g(2): Ciseau\n",
    "        ]\n",
    "\n",
    "        # Choisir le coup avec le gain attendu maximal.\n",
    "        coupMachine = np.argmax(gains)\n",
    "    else:\n",
    "        coupMachine = np.random.choice([0, 1, 2])  # Coup aléatoire pour le premier tour.\n",
    "\n",
    "    # Sauvegarde du coup du joueur.\n",
    "    coupsHumain.append(a)\n",
    "\n",
    "    \n",
    "    victoires.append(regle[coupsHumain[-1], coupMachine])\n",
    "    Mem[coupsHumain[-1], coupMachine] += 1  # Update Mem\n",
    "\n",
    "    # Totale score d'humain\n",
    "    Score = sum(victoires)\n",
    "    ScoreList.append(Score)\n",
    "\n",
    "    \n",
    "    message1 = f\"Humain: {dico[coupsHumain[-1]]}, Machine: {dico[coupMachine]}, Gain pour humain: {regle[coupsHumain[-1], coupMachine]}\"\n",
    "    message2 = f\"Total score for human: {Score}\"\n",
    "\n",
    "    return message1, message2, victoires, Score, ScoreList, Mem\n",
    "\n",
    "\n",
    "\n",
    "# Interface Homme-Machine\n",
    "fenetre = Tk()\n",
    "fenetre.title(\"À vous de jouer !\")\n",
    "fenetre.minsize(width=600, height=600)\n",
    "formulaire = Canvas(fenetre)\n",
    "formulaire.pack()\n",
    "\n",
    "label1 = Label(formulaire)\n",
    "label1.grid(row=3, column=1)\n",
    "\n",
    "label2 = Label(formulaire)\n",
    "label2.grid(row=4, column=1)\n",
    "\n",
    "label3 = Label(formulaire)  \n",
    "label3.grid(row=5, column=1)\n",
    "\n",
    "\n",
    "def afficherPierre():\n",
    "    Mes1, Mes2, Vict, score, scorelist, mem = jouer3(0)\n",
    "    label1.config(text=Mes1)\n",
    "    label2.config(text=Mes2)\n",
    "    label3.config(text=f\"Mem:\\n{mem}\")  \n",
    "    nb_parties = len(scorelist)\n",
    "    plt.plot(scorelist)\n",
    "    plt.xlim(0, nb_parties)\n",
    "    plt.ylim(-nb_parties, nb_parties)\n",
    "    plt.xlabel(\"nombre de parties\")\n",
    "    plt.ylabel(\"Votre score\")\n",
    "    plt.title(\"Historique\")\n",
    "    plt.show()\n",
    "\n",
    "\n",
    "def afficherCiseaux():\n",
    "    Mes1, Mes2, Vict, score, scorelist, mem = jouer3(1)\n",
    "    label1.config(text=Mes1)\n",
    "    label2.config(text=Mes2)\n",
    "    label3.config(text=f\"Mem:\\n{mem}\")  \n",
    "    nb_parties = len(scorelist)\n",
    "    plt.plot(scorelist)\n",
    "    plt.xlim(0, nb_parties)\n",
    "    plt.ylim(-nb_parties, nb_parties)\n",
    "    plt.xlabel(\"nombre de parties\")\n",
    "    plt.ylabel(\"Votre score\")\n",
    "    plt.title(\"Historique\")\n",
    "    plt.show()\n",
    "\n",
    "\n",
    "def afficherCiseaux():\n",
    "    Mes1, Mes2, Vict, score, scorelist, mem = jouer3(2)\n",
    "    label1.config(text=Mes1)\n",
    "    label2.config(text=Mes2)\n",
    "    label3.config(text=f\"Mem:\\n{mem}\")  \n",
    "    nb_parties = len(scorelist)\n",
    "    plt.plot(scorelist)\n",
    "    plt.xlim(0, nb_parties)\n",
    "    plt.ylim(-nb_parties, nb_parties)\n",
    "    plt.xlabel(\"nombre de parties\")\n",
    "    plt.ylabel(\"Votre score\")\n",
    "    plt.title(\"Historique\")\n",
    "    plt.show()\n",
    "\n",
    "\n",
    "Pierre = Button(formulaire, text=\"Pierre\", command=afficherPierre)\n",
    "Pierre.grid(row=0, column=0)\n",
    "\n",
    "Feuille = Button(formulaire, text=\"feuille\", command=afficherFeuille)\n",
    "Feuille.grid(row=0, column=1)\n",
    "\n",
    "Ciseaux = Button(formulaire, text=\"ciseaux\", command=afficherCiseaux)\n",
    "Ciseaux.grid(row=0, column=2)\n",
    "\n",
    "mainloop()\n"
   ]
  },
  {
   "cell_type": "markdown",
   "metadata": {},
   "source": [
    "Comme l'IA s'adapte aux tendances du joueur humain dans ce jeu, il y a une évolution du comportement. Au départ, elle joue de manière aléatoire, ayant peu de données, mais elle apprend rapidement des schémas. \n",
    "\n",
    "Par exemple, si après Pierre, le joueur humain joue toujours Papier, l'IA apprendra à jouer Ciseaux. Une tendance de performance positive dans le graphique ci-dessus signifie que l'humain gagne, tandis qu'une tendance plate ou négative montre que l'IA contre efficacement. Cette approche adaptative rend le jeu plus stimulant et dynamique."
   ]
  },
  {
   "cell_type": "markdown",
   "metadata": {},
   "source": [
    "## Test statistique"
   ]
  },
  {
   "cell_type": "markdown",
   "metadata": {},
   "source": [
    "Ici on crée une liste \"listeHasard\" de taille $100$ qu'on remplit nous-même d'entiers égaux à $1$ ou $-1$ en tentant de respecter une répartition uniforme de ces deux entiers. On crée ensuite une liste \"listeMachine\" de même taille d'eniters égaux à $-1$ ou $1$ à l'aide de la fonction \"np.random.choice\". "
   ]
  },
  {
   "cell_type": "code",
   "execution_count": 35,
   "metadata": {},
   "outputs": [],
   "source": [
    "import numpy as np\n",
    "\n",
    "liste_Hasard= [1, -1, 1, 1, -1, -1, 1, 1, -1, 1, 1, 1, 1, -1, -1, -1, 1, 1, -1, -1,\n",
    "1, -1, 1, 1, 1, 1, 1, -1, -1, -1, 1, 1, 1, -1, -1, 1, -1, 1, -1, 1,\n",
    " 1, -1, -1, -1, 1, 1, -1, 1, 1, 1, 1, 1, 1, 1, 1, 1, -1, -1, -1, 1,\n",
    " -1, 1, 1, -1, 1, -1, 1, -1, -1, 1, 1, 1, -1, -1, -1, 1, 1, 1, -1, 1,\n",
    " 1, 1, 1, 1, -1, -1, 1, 1, -1, -1, -1, -1, 1, -1, 1, -1, 1, 1, -1, 1]\n",
    "list_Machine = np.random.choice([-1, 1], size=100).tolist()\n",
    "\n"
   ]
  },
  {
   "cell_type": "markdown",
   "metadata": {},
   "source": [
    "Ici on veut : \n",
    "- Calculer $I(0)$. \n",
    "- Donner quelle information donne $I(p)$ pour $p>0$  \n",
    "- Donner la valeur de $I(p)$ lorsque les $X_k$ sont des variables mutuellement indépendantes et uniformément distribuées sur $\\{-1,1\\}$ "
   ]
  },
  {
   "cell_type": "code",
   "execution_count": 36,
   "metadata": {},
   "outputs": [
    {
     "name": "stdout",
     "output_type": "stream",
     "text": [
      "I(0) = 100\n"
     ]
    }
   ],
   "source": [
    "def calcul_I(sequence, p):\n",
    "    n = len(sequence)\n",
    "    if p == 0:\n",
    "        # Calcule de I(0) : Tous les éléments au carré sont égaux à 100, donc le résultat est toujours 1.\n",
    "        return 100\n",
    "    else:\n",
    "        # Calcul de I(p): Correlation pour le retard de p\n",
    "        return sum(sequence[k] * sequence[k + p] for k in range(n-p)) \n",
    "\n",
    "# Example \n",
    "p=0\n",
    "I_p = calcul_I(liste_Hasard, p)\n",
    "\n",
    "print(f\"I({p}) =\", I_p)\n"
   ]
  },
  {
   "cell_type": "markdown",
   "metadata": {},
   "source": [
    "Ici, $I(p)$ décrit la corrélation d'une série avec un retard de $p$ périodes. Lorsque $I(p)$ est proche de $0$, il y aura peu ou pas de corrélation entre $X_k$ et $X_{k+p}$, indiquant que la série présente un caractère aléatoire sur le retard donné."
   ]
  },
  {
   "cell_type": "markdown",
   "metadata": {},
   "source": [
    "Pour $X_k$ indépendants et uniformément distribués, $E[I(p)]=0$ car il n'y a aucune corrélation entre $X_k$ et $X_{k+p}$, ce qui reflète le caractère aléatoire de la séquence."
   ]
  },
  {
   "cell_type": "markdown",
   "metadata": {},
   "source": [
    "### Création d'une fonction \"autocorr(X,p)\" qui prend en argument une liste $X$ de $100$ entiers, un entier $p\\in \\{0,\\ldots,99\\}$ et qui renvoie l'autocorrélation de $X$ en $p$."
   ]
  },
  {
   "cell_type": "code",
   "execution_count": 37,
   "metadata": {},
   "outputs": [
    {
     "name": "stdout",
     "output_type": "stream",
     "text": [
      "100\n"
     ]
    }
   ],
   "source": [
    "def autocorr(X,p):\n",
    "    n = len(X)\n",
    "    assert 0 <= p < n\n",
    "    \n",
    "    return sum(X[k] * X[k + p] for k in range(n - p)) \n",
    "\n",
    "# Example\n",
    "s1= autocorr(liste_Hasard,0)\n",
    "print(s1)\n"
   ]
  },
  {
   "cell_type": "markdown",
   "metadata": {},
   "source": [
    "### Représentation de l'autocorrélation de ces deux listes en fonction de $p$"
   ]
  },
  {
   "cell_type": "code",
   "execution_count": 23,
   "metadata": {},
   "outputs": [],
   "source": [
    "import matplotlib.pyplot as plt\n",
    "\n",
    "\n",
    "# Calculer l'autocorrélation pour tous les retards.\n",
    "retard = range(100)\n",
    "autocorr_random = [autocorr(liste_Hasard, p) for p in retard]\n",
    "autocorr_machine = [autocorr(list_Machine, p) for p in retard]\n",
    "\n",
    "# Tracer les résultats.\n",
    "plt.figure(figsize=(10, 6))\n",
    "plt.plot(retard, autocorr_random, label=\"listHasard\", marker='o')\n",
    "plt.plot(retard, autocorr_machine, label=\"listMachine\", marker='x')\n",
    "plt.axhline(0, color='gray', linestyle='--', linewidth=0.7)  \n",
    "plt.title(\"Autocorrelation de listHasard et listMachine\")\n",
    "plt.xlabel(\"retard (p)\")\n",
    "plt.ylabel(\"Autocorrelation\")\n",
    "plt.legend()\n",
    "plt.grid(True)\n",
    "plt.show()\n"
   ]
  },
  {
   "cell_type": "markdown",
   "metadata": {},
   "source": [
    "**list_Hasard**  montre un motif qui a été généré manuellement. **listMachine** présente une autocorrélation proche de zéro pour \n",
    "$p>0$, indiquant un caractère aléatoire"
   ]
  },
  {
   "cell_type": "markdown",
   "metadata": {},
   "source": [
    "### Création d'un échantillon \"ech\" de $5000$ réalisations de la variable aléatoire $I(1)$. "
   ]
  },
  {
   "cell_type": "code",
   "execution_count": 38,
   "metadata": {},
   "outputs": [
    {
     "name": "stdout",
     "output_type": "stream",
     "text": [
      "[-9 -1 -5 -1  3  7 13 -3  7  3]\n"
     ]
    }
   ],
   "source": [
    "import random\n",
    "n_real=5000\n",
    "taille_echantillon=100\n",
    "\n",
    "ech=[]\n",
    "for _ in range(n_real):\n",
    "    X = [random.choice([1, -1]) for _ in range(taille_echantillon)]\n",
    "    I1 = autocorr(X,1)\n",
    "    ech.append(I1)\n",
    "\n",
    "ech=np.array(ech)\n",
    "\n",
    "\n",
    "print(ech[:10])"
   ]
  },
  {
   "cell_type": "markdown",
   "metadata": {},
   "source": [
    "### Représentation de \"ech\" via un histogramme et Calcul la moyenne et la variance empiriques de \"ech\"."
   ]
  },
  {
   "cell_type": "code",
   "execution_count": 42,
   "metadata": {},
   "outputs": [
    {
     "name": "stdout",
     "output_type": "stream",
     "text": [
      "Moyenne de echt: 0.2136\n",
      "Variance de echt: 97.24237504\n"
     ]
    }
   ],
   "source": [
    "import matplotlib.pyplot as plt\n",
    "import numpy as np\n",
    "\n",
    "plt.hist(ech, bins=30, edgecolor='black', alpha=0.7)\n",
    "plt.title(\"Distribution empirique de I(1)\")\n",
    "plt.xlabel(\"Valeur de I(1)\")\n",
    "plt.ylabel(\"Fréquence\")\n",
    "plt.show()\n",
    "\n",
    "\n",
    "\n",
    "\n",
    "moyenne_empirique = np.mean(ech)  \n",
    "variance_empirique = np.var(ech)  \n",
    "\n",
    "print(f\"Moyenne de echt: {moyenne_empirique}\")\n",
    "print(f\"Variance de echt: {variance_empirique}\")"
   ]
  },
  {
   "cell_type": "markdown",
   "metadata": {},
   "source": [
    "La loi déduite pour $I(1)$ est une distribution normale approximative : \n",
    "En utilisant le théorème centrale limite\n",
    "\n",
    "$I(1)$ suit une distribution normale avec une moyenne égale à zéro (indiquant l'absence de corrélation) et une variance estimée empiriquement (un peu près egale de $100$)."
   ]
  },
  {
   "cell_type": "markdown",
   "metadata": {},
   "source": [
    "### Formulation du test statistique bilatérale: les hypothèses, la statistique du test, les valeurs critiques."
   ]
  },
  {
   "cell_type": "code",
   "execution_count": 43,
   "metadata": {},
   "outputs": [
    {
     "name": "stdout",
     "output_type": "stream",
     "text": [
      "H0 rejetée : listHasard ne semble pas parfaitement aléatoire.\n",
      "H0 rejetée : listMachine ne semble pas parfaitement aléatoire.\n"
     ]
    }
   ],
   "source": [
    "# Seuil critique pour un test bilatéral à 5 %\n",
    "z_critical = 1.96\n",
    "\n",
    "# Autocorrélation et score Z \n",
    "I1_listHasard = autocorr(liste_Hasard, 1)\n",
    "Z_random = I1_listHasard / np.sqrt(variance_empirique)\n",
    "\n",
    "# condition \n",
    "if -z_critical < Z_random < z_critical:\n",
    "    print(\"H0 rejetée : listHasard ne semble pas parfaitement aléatoire.\")\n",
    "else:\n",
    "    \n",
    "    print(\"H0 non rejetée : listHasard peut être considérée comme parfaitement aléatoire.\")\n",
    "\n",
    "# Calcul de l'autocorrélation et du score Z pour listMachine\n",
    "I1_listMachine = autocorr(list_Machine, 1)\n",
    "Z_machine = I1_listMachine / np.sqrt(variance_empirique)\n",
    "\n",
    "# Application de la nouvelle condition\n",
    "if -z_critical < Z_machine < z_critical:\n",
    "    print(\"H0 rejetée : listMachine ne semble pas parfaitement aléatoire.\")\n",
    "else:\n",
    "   \n",
    "     print(\"H0 non rejetée : listMachine peut être considérée comme parfaitement aléatoire.\")\n"
   ]
  },
  {
   "cell_type": "markdown",
   "metadata": {},
   "source": [
    "L'intervalle de confiance est $[-1.96 , 1.96]$\n",
    "\n",
    "Le comportement de listHasard dépend de la manière dont elle a été construite. En effet, lorsque listHasard est aléatoire, les valeurs de $I(p)$ pour $p>0$ oscillent autour de $0$ et se comportent essentiellement comme pour listMachine. Ci-dessous, on trouve un histogramme de $I(1)$ qui est symétrique par rapport à $0$, et le test d'hypothèse ne devrait pas rejeter $H_0$, confirmant ainsi l'aléatoireité de la séquence.\n",
    "\n",
    "Cependant, s'il existe un motif dans listHasard, par exemple si elle alterne entre $1$ et $-1$, alors \n",
    "$I(p)$ pour certains retards $p$ présentera des pics périodiques au lieu de fluctuer autour de $0$, ce qui pourrait indiquer la présence d’un schéma répétitif. L'histogramme de $I(1)$ serait alors asymétrique ou concentré, et un test d’hypothèse pourrait rejeter $H_0$, indiquant que la séquence n'est pas véritablement aléatoire."
   ]
  },
  {
   "cell_type": "markdown",
   "metadata": {},
   "source": [
    "## Pierre-Feuille-Ciseaux-Lézard-Spock"
   ]
  },
  {
   "cell_type": "code",
   "execution_count": 2,
   "metadata": {},
   "outputs": [
    {
     "data": {
      "image/png": "[encoded data removed]",
      "text/plain": [
       "<Figure size 500x300 with 1 Axes>"
      ]
     },
     "metadata": {},
     "output_type": "display_data"
    }
   ],
   "source": [
    "import tkinter as tk\n",
    "import numpy as np\n",
    "from matplotlib.backends.backend_tkagg import FigureCanvasTkAgg\n",
    "import matplotlib.pyplot as plt\n",
    "\n",
    "choix = [\"Pierre\", \"Papier\", \"Ciseaux\", \"Lézard\", \"Spock\"]\n",
    "règles = {\n",
    "    (0, 2): 1, (0, 3): 1, (1, 0): 1, (1, 4): 1,\n",
    "    (2, 1): 1, (2, 3): 1, (3, 1): 1, (3, 4): 1,\n",
    "    (4, 0): 1, (4, 2): 1\n",
    "}\n",
    "règles.update({(j, i): -1 for i, j in règles.keys()})\n",
    "for i in range(5):\n",
    "    règles[(i, i)] = 0\n",
    "\n",
    "mouvements_humain = []\n",
    "mouvements_ia = []\n",
    "scores = []\n",
    "score = 0\n",
    "mémoire = np.zeros((5, 5), dtype=int)\n",
    "\n",
    "def decision_ia(mouvement_humain):\n",
    "    if len(mouvements_humain) < 1:\n",
    "        return np.random.choice(range(5))\n",
    "    probabilités = mémoire[mouvement_humain] / (np.sum(mémoire[mouvement_humain]) + 1e-10)\n",
    "    mouvement_humain_prédit = np.argmax(probabilités)\n",
    "    return (mouvement_humain_prédit + 1) % 5\n",
    "\n",
    "def jouer(mouvement_humain):\n",
    "    global score, mémoire\n",
    "    mouvement_ia = decision_ia(mouvement_humain)\n",
    "    if len(mouvements_humain) > 0:\n",
    "        mémoire[mouvements_humain[-1], mouvement_humain] += 1\n",
    "    résultat = règles[(mouvement_humain, mouvement_ia)]\n",
    "    mouvements_humain.append(mouvement_humain)\n",
    "    mouvements_ia.append(mouvement_ia)\n",
    "    score += résultat\n",
    "    scores.append(score)\n",
    "    etiquette_mouvement.config(\n",
    "        text=f\"Humain : {choix[mouvement_humain]}, IA : {choix[mouvement_ia]}\\nRésultat : {'Gagné' if résultat == 1 else 'Perdu' if résultat == -1 else 'Égalité'}\"\n",
    "    )\n",
    "    etiquette_score.config(text=f\"Score : {score}\")\n",
    "    mettre_a_jour_graphique()\n",
    "\n",
    "def mettre_a_jour_graphique():\n",
    "    ax.clear()\n",
    "    ax.plot(scores, label=\"Score\", color=\"blue\")\n",
    "    ax.axhline(0, color=\"gray\", linestyle=\"--\", linewidth=0.7)\n",
    "    ax.set_title(\"Historique du Score du Jeu\", fontsize=16)\n",
    "    ax.set_xlabel(\"Nombre de Parties\", fontsize=12)\n",
    "    ax.set_ylabel(\"Score\", fontsize=12)\n",
    "    ax.grid(True)\n",
    "    ax.legend()\n",
    "    canvas.draw()\n",
    "\n",
    "racine = tk.Tk()\n",
    "racine.title(\"Pierre-Papier-Ciseaux-Lézard-Spock\")\n",
    "racine.geometry(\"800x600\")  # Définir la taille de la fenêtre (Largeur x Hauteur)\n",
    "\n",
    "etiquette_mouvement = tk.Label(racine, text=\"Faites votre choix !\", font=(\"Arial\", 14))\n",
    "etiquette_mouvement.pack(pady=10)\n",
    "\n",
    "etiquette_score = tk.Label(racine, text=\"Score : 0\", font=(\"Arial\", 12))\n",
    "etiquette_score.pack(pady=10)\n",
    "\n",
    "cadre_boutons = tk.Frame(racine)\n",
    "cadre_boutons.pack()\n",
    "\n",
    "for i, choix_utilisateur in enumerate(choix):\n",
    "    bouton = tk.Button(cadre_boutons, text=choix_utilisateur, font=(\"Arial\", 12), command=lambda mouvement=i: jouer(mouvement))\n",
    "    bouton.grid(row=0, column=i, padx=5, pady=5)\n",
    "\n",
    "fig, ax = plt.subplots(figsize=(5, 3))\n",
    "canvas = FigureCanvasTkAgg(fig, master=racine)\n",
    "widget_canvas = canvas.get_tk_widget()\n",
    "widget_canvas.pack()\n",
    "\n",
    "racine.mainloop()\n"
   ]
  },
  {
   "cell_type": "code",
   "execution_count": null,
   "metadata": {},
   "outputs": [],
   "source": []
  }
 ],
 "metadata": {
  "kernelspec": {
   "display_name": "Python 3",
   "language": "python",
   "name": "python3"
  },
  "language_info": {
   "codemirror_mode": {
    "name": "ipython",
    "version": 3
   },
   "file_extension": ".py",
   "mimetype": "text/x-python",
   "name": "python",
   "nbconvert_exporter": "python",
   "pygments_lexer": "ipython3",
   "version": "3.8.10"
  }
 },
 "nbformat": 4,
 "nbformat_minor": 2
}
